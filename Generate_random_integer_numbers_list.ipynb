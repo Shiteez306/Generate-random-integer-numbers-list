{
  "nbformat": 4,
  "nbformat_minor": 0,
  "metadata": {
    "colab": {
      "provenance": [],
      "authorship_tag": "ABX9TyOOzEvcobbrocQd3pS5zWM2",
      "include_colab_link": true
    },
    "kernelspec": {
      "name": "python3",
      "display_name": "Python 3"
    },
    "language_info": {
      "name": "python"
    }
  },
  "cells": [
    {
      "cell_type": "markdown",
      "metadata": {
        "id": "view-in-github",
        "colab_type": "text"
      },
      "source": [
        "<a href=\"https://colab.research.google.com/github/Shiteez306/Generate-random-integer-numbers-list/blob/main/Generate_random_integer_numbers_list.ipynb\" target=\"_parent\"><img src=\"https://colab.research.google.com/assets/colab-badge.svg\" alt=\"Open In Colab\"/></a>"
      ]
    },
    {
      "cell_type": "code",
      "execution_count": 2,
      "metadata": {
        "colab": {
          "base_uri": "https://localhost:8080/"
        },
        "id": "JpH_lHIhyazC",
        "outputId": "84398ac4-5ac0-4757-a68f-b939848491cf"
      },
      "outputs": [
        {
          "output_type": "stream",
          "name": "stdout",
          "text": [
            "[12, 58, 75, 45, 22, 59, 18, 65, 67, 39, 48, 17, 57, 15, 16, 52, 62, 23, 53, 20, 60, 79, 92, 61, 78, 14, 81, 63, 21, 42]\n"
          ]
        }
      ],
      "source": [
        "import random\n",
        "numList = random.sample(range(10,100),30)\n",
        "print(numList)"
      ]
    }
  ]
}